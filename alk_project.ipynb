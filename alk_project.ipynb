{
 "cells": [
  {
   "cell_type": "code",
   "execution_count": 26,
   "id": "28075568-c37c-4c1f-9004-97dabf45718a",
   "metadata": {},
   "outputs": [],
   "source": [
    "# My project Alkemy"
   ]
  },
  {
   "cell_type": "code",
   "execution_count": 27,
   "id": "559b78ba-9fc0-420d-884d-fd77c927314d",
   "metadata": {},
   "outputs": [],
   "source": [
    "#descargar y correr requests"
   ]
  },
  {
   "cell_type": "code",
   "execution_count": 28,
   "id": "1d3e0d2b-8a12-493c-ba4e-1f104a58df99",
   "metadata": {},
   "outputs": [],
   "source": [
    "import requests\n",
    "import os\n",
    "import logging \n",
    "import pandas as pd\n",
    "import numpy as np\n",
    "from datetime import datetime"
   ]
  },
  {
   "cell_type": "code",
   "execution_count": 29,
   "id": "2949555a-8fd8-4cc4-9d94-f7b614d6f1fc",
   "metadata": {},
   "outputs": [],
   "source": [
    "#  Museos\n",
    "# https://datos.gob.ar/dataset/cultura-mapa-cultural-espacios-culturales/\n",
    "# archivo/cultura_4207def0-2ff7-41d5-9095-d42ae8207a5d\n",
    "#  Salas de Cine\n",
    "# https://datos.gob.ar/dataset/cultura-mapa-cultural-espacios-culturales/\n",
    "# archivo/cultura_392ce1a8-ef11-4776-b280-6f1c7fae16ae\n",
    "#  Bibliotecas\n",
    "# https://datos.gob.ar/dataset/cultura-mapa-cultural-espacios-culturales/\n",
    "# archivo/cultura_01c6c048-dbeb-44e0-8efa-6944f73715d7"
   ]
  },
  {
   "cell_type": "code",
   "execution_count": 30,
   "id": "b7f41e02-d387-429c-9213-43b9449070b2",
   "metadata": {},
   "outputs": [],
   "source": [
    "logging.basicConfig(filename=\"info.log\", level=logging.INFO,\n",
    "                    format=\"%(asctime)s::%(levelname)s::%(message)s\")"
   ]
  },
  {
   "cell_type": "code",
   "execution_count": 31,
   "id": "e7381661-4f8b-4a92-8381-c4a10813621b",
   "metadata": {},
   "outputs": [],
   "source": [
    "#Direcciones de archivos \n",
    "url_museos = 'https://datos.cultura.gob.ar/dataset/37305de4-3cce-4d4b-9d9a-fec3ca61d09f/resource/4207def0-2ff7-41d5-9095-d42ae8207a5d/download/museos_datosabiertos.csv'\n",
    "url_cines = 'https://datos.cultura.gob.ar/dataset/37305de4-3cce-4d4b-9d9a-fec3ca61d09f/resource/392ce1a8-ef11-4776-b280-6f1c7fae16ae/download/cine.csv'\n",
    "url_bibliotecas = 'https://datos.cultura.gob.ar/dataset/37305de4-3cce-4d4b-9d9a-fec3ca61d09f/resource/01c6c048-dbeb-44e0-8efa-6944f73715d7/download/biblioteca_popular.csv'\n",
    "#Fechas actualizadas\n",
    "now = datetime.now()\n",
    "day=str(now.day)\n",
    "month=str(now.month)\n",
    "year=str(now.year)"
   ]
  },
  {
   "cell_type": "code",
   "execution_count": 32,
   "id": "88242ec7-90a7-468f-8a65-9e445e5b108c",
   "metadata": {},
   "outputs": [],
   "source": [
    "#Descargo la base de datos de MUSEOS\n",
    "req_museos= requests.get(url_museos)\n",
    "logging.info(\"Datos de Museos descargados\")\n",
    "os.makedirs('museos/'+year+'-'+str(now.strftime(\"%B\"))+'/',exist_ok=True)\n",
    "museos = open ('museos/'+year+'-'+str(now.strftime(\"%B\"))+'/museos-'+day+'-'+month+'-'+year+'.csv','wb').write(req_museos.content)\n",
    "logging.info(\"Archivos creados\")"
   ]
  },
  {
   "cell_type": "code",
   "execution_count": 33,
   "id": "fe5c3c60-ad48-494c-9fac-bb4464e83f72",
   "metadata": {},
   "outputs": [],
   "source": [
    "# Descargo la base de datos de SALAS DE CINE\n",
    "req_cines = requests.get(url_cines)\n",
    "logging.info(\"Datos de Salas de Cine descargados\")\n",
    "os.makedirs('cines/'+year+'-'+str(now.strftime(\"%B\"))+'/',exist_ok=True)\n",
    "cines = open ('cines/'+year+'-'+str(now.strftime(\"%B\"))+'/cines-'+day+'-'+month+'-'+year+'.csv','wb').write(req_cines.content)\n",
    "logging.info(\"Archivos creados\")"
   ]
  },
  {
   "cell_type": "code",
   "execution_count": 34,
   "id": "4d141f07-c49e-4729-b79d-41fac904d304",
   "metadata": {},
   "outputs": [],
   "source": [
    "# Descargo la base de datos de BIBLIOTECAS\n",
    "req_bibliotecas = requests.get(url_bibliotecas)\n",
    "logging.info(\"Datos de Bibliotecas descargados\")\n",
    "os.makedirs('bibliotecas/'+year+'-'+str(now.strftime(\"%B\"))+'/',exist_ok=True)\n",
    "bibliotecas = open ('bibliotecas/'+year+'-'+str(now.strftime(\"%B\"))+'/bibliotecas-'+day+'-'+month+'-'+year+'.csv','wb').write(req_bibliotecas.content)\n",
    "logging.info(\"Archivos creados\")"
   ]
  },
  {
   "cell_type": "code",
   "execution_count": 35,
   "id": "145156e1-d840-4f40-8507-b6dca0de1396",
   "metadata": {},
   "outputs": [],
   "source": [
    "#Normalización datos de Museo\n",
    "\n",
    "df_museos=pd.read_csv('museos/'+year+'-'+str(now.strftime(\"%B\"))+'/museos-'+day+'-'+month+'-'+year+'.csv', header=0 )\n",
    "\n",
    "df_museos= df_museos.rename(columns = {'Cod_Loc':'cod_localidad','IdProvincia':'id_provincia'\n",
    "                                      ,'IdDepartamento':'id_departamento','Observaciones':'remove1'\n",
    "                                      ,'categoria':'categoría','subcategoria':'remove2'\n",
    "                                      ,'provincia':'provincia','localidad':'localidad'\n",
    "                                      ,'nombre':'nombre','direccion':'domicilio'\n",
    "                                      ,'piso':'remove3','CP':'código postal'\n",
    "                                      ,'cod_area':'remove4','telefono':'número de teléfono'\n",
    "                                      ,'Mail':'mail','Web':'web'\n",
    "                                      ,'Latitud':'remove5','Longitud':'remove6'\n",
    "                                      ,'TipoLatitudLongitud':'remove7','Info_adicional':'remove8'\n",
    "                                      ,'fuente':'fuente','jurisdiccion':'remove9'\n",
    "                                      ,'año_inauguracion':'remove10','actualizacion':'remove11'})\n",
    "for i in range(1,12):\n",
    "    df_museos = df_museos.drop(columns={\"remove\"+str(i)})\n",
    "\n",
    "logging.info(\"Normalización Museos\")"
   ]
  },
  {
   "cell_type": "code",
   "execution_count": 36,
   "id": "4c402db4-22c3-44bb-8e78-0639c5097639",
   "metadata": {},
   "outputs": [],
   "source": [
    "#Normalización datos de Salas de Cine\n",
    "df_cines = pd.read_csv('cines/'+year+'-'+str(now.strftime(\"%B\"))+'/cines-'+day+'-'+month+'-'+year+'.csv', header=0 )\n",
    "\n",
    "df_cines = df_cines.rename(columns = {'Cod_Loc':'cod_localidad','IdProvincia':'id_provincia'\n",
    "                                      ,'IdDepartamento':'id_departamento','Observaciones':'remove1'\n",
    "                                      ,'Categoría':'categoría','Provincia':'provincia'\n",
    "                                      ,'Departamento':'remove2','Localidad':'localidad'\n",
    "                                      ,'Nombre':'nombre','Dirección':'domicilio'\n",
    "                                      ,'Piso':'remove3','CP':'código postal'\n",
    "                                      ,'cod_area':'remove4','Teléfono':'número de teléfono'\n",
    "                                      ,'Mail':'mail','Web':'web'\n",
    "                                      ,'Información adicional':'remove5','Latitud':'remove6'\n",
    "                                      ,'Longitud':'remove7','TipoLatitudLongitud':'remove8'\n",
    "                                      ,'Fuente':'fuente','tipo_gestion':'remove9'\n",
    "                                      ,'Pantallas':'pantallas','Butacas':'butacas'\n",
    "                                      ,'espacio_INCAA':'espacio incaa','año_actualizacion':'remove10'})\n",
    "for i in range(1,11):\n",
    "    df_cines = df_cines.drop(columns={\"remove\"+str(i)})\n",
    "\n",
    "\n",
    "logging.info(\"Normalización Salas de Cines\")"
   ]
  },
  {
   "cell_type": "code",
   "execution_count": 37,
   "id": "68feca4e-6ae3-45f3-a7f8-590fea09bf84",
   "metadata": {},
   "outputs": [],
   "source": [
    "#Normalización datos de Bibliotecas\n",
    "df_bibliotecas = pd.read_csv('bibliotecas/'+year+'-'+str(now.strftime(\"%B\"))+'/bibliotecas-'+day+'-'+month+'-'+year+'.csv', header=0 )\n",
    "\n",
    "df_bibliotecas = df_bibliotecas.rename(columns = {'Cod_Loc':'cod_localidad','IdProvincia':'id_provincia'\n",
    "                                      ,'IdDepartamento':'id_departamento','Observacion':'remove1'\n",
    "                                      ,'Categoría':'categoría','Subcategoria':'remove2'\n",
    "                                      ,'Provincia':'provincia','Departamento':'remove3'\n",
    "                                      ,'Localidad':'localidad','Nombre':'nombre'\n",
    "                                      ,'Domicilio':'domicilio','Piso':'remove4'\n",
    "                                      ,'CP':'código postal','Cod_tel':'remove5'\n",
    "                                      ,'Teléfono':'número de teléfono','Mail':'mail'\n",
    "                                      ,'Web':'web','Información adicional':'remove6'\n",
    "                                      ,'Latitud':'remove7','Longitud':'remove8'\n",
    "                                      ,'TipoLatitudLongitud':'remove9','Fuente':'fuente'\n",
    "                                      ,'Tipo_gestion':'remove10','año_inicio':'remove11'\n",
    "                                      ,'Año_actualizacion':'remove12'})\n",
    "for i in range(1,13):\n",
    "    df_bibliotecas = df_bibliotecas.drop(columns={\"remove\"+str(i)})\n",
    "\n",
    "logging.info(\"Normalización Bibliotecas\")"
   ]
  },
  {
   "cell_type": "code",
   "execution_count": 38,
   "id": "a63a3da5-a847-4dc7-bd59-b240c18cdb2a",
   "metadata": {},
   "outputs": [
    {
     "name": "stderr",
     "output_type": "stream",
     "text": [
      "/tmp/ipykernel_12575/1119982117.py:8: FutureWarning: The frame.append method is deprecated and will be removed from pandas in a future version. Use pandas.concat instead.\n",
      "  principal_mcb=principal_mcb.append([df_museos, df_cines, df_bibliotecas], ignore_index=True)\n"
     ]
    }
   ],
   "source": [
    "# Creo la tabla normalizada con datos de Museos, Cines y Bibliotecas\n",
    "\n",
    "principal_mcb=pd.DataFrame(columns=[\"cod_localidad\", \"id_provincia\", \"id_departamento\"\n",
    "                      , \"categoría\", \"provincia\", \"localidad\", \"nombre\"\n",
    "                      , \"domicilio\", \"código postal\", \"número de teléfono\"\n",
    "                      , \"mail\", \"web\"])\n",
    "\n",
    "principal_mcb=principal_mcb.append([df_museos, df_cines, df_bibliotecas], ignore_index=True)\n",
    "principal_mcb.drop(columns={\"fuente\",\"pantallas\",\"butacas\",\"espacio incaa\"})\n",
    "\n",
    "principal_mcb[\"provincia\"]=principal_mcb[\"provincia\"].replace([\"Santa Fe\"], \"Santa Fé\")\n",
    "principal_mcb[\"provincia\"]=principal_mcb[\"provincia\"].replace([\"Tierra del Fuego\"], \"Tierra del Fuego, Antártida e Islas del Atlántico Sur\")\n",
    "principal_mcb[\"provincia\"]=principal_mcb[\"provincia\"].replace([\"Neuquén\\xa0\"], \"Neuquén\")\n",
    "\n",
    "principal_mcb.to_csv(\"principal_mcb.csv\",encoding='UTF-8')\n",
    "logging.info(\"Tabla principal con datos de Museos, Salas de Cine y Bibliotecas Creadas\")"
   ]
  },
  {
   "cell_type": "code",
   "execution_count": null,
   "id": "f62fc67a-df06-446e-94b3-7739699071ed",
   "metadata": {},
   "outputs": [],
   "source": []
  },
  {
   "cell_type": "code",
   "execution_count": 39,
   "id": "1d03925a-a3e9-45a5-ba61-935942a9b467",
   "metadata": {},
   "outputs": [],
   "source": [
    "# Creo la tabla de fuentes\n",
    "tabla_fuente=principal_mcb[\"fuente\"].value_counts().rename_axis(\"fuente\").reset_index(name='registros por fuente')\n",
    "tabla_fuente.to_csv(\"registros_por_fuente.csv\",encoding='UTF-8')\n",
    "logging.info(\"Tabla de registros por Fuente Creada\")"
   ]
  },
  {
   "cell_type": "code",
   "execution_count": 40,
   "id": "bb453f35-292b-494d-ba08-9653e3bc3efa",
   "metadata": {},
   "outputs": [],
   "source": [
    "#tabla registros por provincia y categoría\n",
    "tabla_prov_cat=principal_mcb.pivot_table(values=\"nombre\", index=\"provincia\", columns=\"categoría\",\n",
    "                                         aggfunc=\"count\", margins=True,\n",
    "                                         margins_name=\"Registros totales por provincia\")\n",
    "tabla_prov_cat.to_csv(\"registros_prov_categoria.csv\",encoding='UTF-8')\n",
    "logging.info(\"Tabla de registros por Provincia y Categoría Creada\")"
   ]
  },
  {
   "cell_type": "code",
   "execution_count": 41,
   "id": "d0f05f45-4609-41af-8588-4f8321443396",
   "metadata": {},
   "outputs": [],
   "source": [
    "# Creo la tabla de información de cines provincia, pantallas, butacas y espacios INCAA\n",
    "df_cines[\"espacio incaa\"]=df_cines[\"espacio incaa\"].replace([\"Si\",\"SI\",\"si\"], int(1))\n",
    "df_cines[\"espacio incaa\"]=df_cines[\"espacio incaa\"].replace([np.NaN], int(0))\n",
    "df_cines[\"espacio incaa\"]=df_cines[\"espacio incaa\"].astype(\"int\")\n",
    "\n",
    "prov_info_cines=df_cines.groupby('provincia').sum()\n",
    "prov_info_cines=prov_info_cines.drop(columns={\"cod_localidad\",\"id_provincia\",\"id_departamento\",\"código postal\"})\n",
    "prov_info_cines.to_csv(\"datos_cines_provincias.csv\", encoding='UTF-8')\n",
    "logging.info(\"Tabla de datos de Cines Creada\")"
   ]
  },
  {
   "cell_type": "code",
   "execution_count": null,
   "id": "bf4cd820-0799-45e0-afe6-8b6491e9075b",
   "metadata": {},
   "outputs": [],
   "source": []
  },
  {
   "cell_type": "code",
   "execution_count": null,
   "id": "8344be0b-5ec8-41e7-85d6-d604678ffffb",
   "metadata": {},
   "outputs": [],
   "source": []
  },
  {
   "cell_type": "code",
   "execution_count": null,
   "id": "bdd59c83-af48-49be-82c2-479fbef6cb26",
   "metadata": {},
   "outputs": [],
   "source": []
  }
 ],
 "metadata": {
  "kernelspec": {
   "display_name": "Python 3 (ipykernel)",
   "language": "python",
   "name": "python3"
  },
  "language_info": {
   "codemirror_mode": {
    "name": "ipython",
    "version": 3
   },
   "file_extension": ".py",
   "mimetype": "text/x-python",
   "name": "python",
   "nbconvert_exporter": "python",
   "pygments_lexer": "ipython3",
   "version": "3.8.10"
  }
 },
 "nbformat": 4,
 "nbformat_minor": 5
}
