{
 "cells": [
  {
   "cell_type": "code",
   "execution_count": 1,
   "id": "28075568-c37c-4c1f-9004-97dabf45718a",
   "metadata": {},
   "outputs": [],
   "source": [
    "# My project Alkemy"
   ]
  },
  {
   "cell_type": "code",
   "execution_count": 2,
   "id": "559b78ba-9fc0-420d-884d-fd77c927314d",
   "metadata": {},
   "outputs": [],
   "source": [
    "#descargar y correr requests"
   ]
  },
  {
   "cell_type": "code",
   "execution_count": 2,
   "id": "1d3e0d2b-8a12-493c-ba4e-1f104a58df99",
   "metadata": {},
   "outputs": [],
   "source": [
    "import requests\n",
    "import os\n",
    "import pandas as pd\n",
    "from datetime import datetime"
   ]
  },
  {
   "cell_type": "code",
   "execution_count": 3,
   "id": "2949555a-8fd8-4cc4-9d94-f7b614d6f1fc",
   "metadata": {},
   "outputs": [],
   "source": [
    "#  Museos\n",
    "# https://datos.gob.ar/dataset/cultura-mapa-cultural-espacios-culturales/\n",
    "# archivo/cultura_4207def0-2ff7-41d5-9095-d42ae8207a5d\n",
    "#  Salas de Cine\n",
    "# https://datos.gob.ar/dataset/cultura-mapa-cultural-espacios-culturales/\n",
    "# archivo/cultura_392ce1a8-ef11-4776-b280-6f1c7fae16ae\n",
    "#  Bibliotecas\n",
    "# https://datos.gob.ar/dataset/cultura-mapa-cultural-espacios-culturales/\n",
    "# archivo/cultura_01c6c048-dbeb-44e0-8efa-6944f73715d7"
   ]
  },
  {
   "cell_type": "code",
   "execution_count": 4,
   "id": "e7381661-4f8b-4a92-8381-c4a10813621b",
   "metadata": {},
   "outputs": [],
   "source": [
    "#Direcciones de archivos \n",
    "url_museos = 'https://datos.cultura.gob.ar/dataset/37305de4-3cce-4d4b-9d9a-fec3ca61d09f/resource/4207def0-2ff7-41d5-9095-d42ae8207a5d/download/museos_datosabiertos.csv'\n",
    "url_cines = 'https://datos.cultura.gob.ar/dataset/37305de4-3cce-4d4b-9d9a-fec3ca61d09f/resource/392ce1a8-ef11-4776-b280-6f1c7fae16ae/download/cine.csv'\n",
    "url_bibliotecas = 'https://datos.cultura.gob.ar/dataset/37305de4-3cce-4d4b-9d9a-fec3ca61d09f/resource/01c6c048-dbeb-44e0-8efa-6944f73715d7/download/biblioteca_popular.csv'\n",
    "#Fechas actualizadas\n",
    "now = datetime.now()\n",
    "day=str(now.day)\n",
    "month=str(now.month)\n",
    "year=str(now.year)"
   ]
  },
  {
   "cell_type": "code",
   "execution_count": 5,
   "id": "88242ec7-90a7-468f-8a65-9e445e5b108c",
   "metadata": {},
   "outputs": [],
   "source": [
    "#Descargo la base de datos de MUSEOS\n",
    "\n",
    "req_museos = requests.get(url_museos)\n",
    "os.makedirs('museos/'+year+'-'+str(now.strftime(\"%B\"))+'/',exist_ok=True)\n",
    "museos = open ('museos/'+year+'-'+str(now.strftime(\"%B\"))+'/museos-'+day+'-'+month+'-'+year+'.csv','wb').write(req_museos.content)"
   ]
  },
  {
   "cell_type": "code",
   "execution_count": 6,
   "id": "fe5c3c60-ad48-494c-9fac-bb4464e83f72",
   "metadata": {},
   "outputs": [],
   "source": [
    "#Descargo la base de datos de SALAS DE CINE\n",
    "\n",
    "req_cines = requests.get(url_cines)\n",
    "os.makedirs('cines/'+year+'-'+str(now.strftime(\"%B\"))+'/',exist_ok=True)\n",
    "cines = open ('cines/'+year+'-'+str(now.strftime(\"%B\"))+'/cines-'+day+'-'+month+'-'+year+'.csv','wb').write(req_cines.content)"
   ]
  },
  {
   "cell_type": "code",
   "execution_count": 7,
   "id": "4d141f07-c49e-4729-b79d-41fac904d304",
   "metadata": {},
   "outputs": [],
   "source": [
    "#Descargo la base de datos de BIBLIOTECAS\n",
    "req_bibliotecas = requests.get(url_bibliotecas)\n",
    "os.makedirs('bibliotecas/'+year+'-'+str(now.strftime(\"%B\"))+'/',exist_ok=True)\n",
    "bibliotecas = open ('bibliotecas/'+year+'-'+str(now.strftime(\"%B\"))+'/bibliotecas-'+day+'-'+month+'-'+year+'.csv','wb').write(req_bibliotecas.content)"
   ]
  },
  {
   "cell_type": "code",
   "execution_count": 8,
   "id": "145156e1-d840-4f40-8507-b6dca0de1396",
   "metadata": {},
   "outputs": [],
   "source": [
    "#Normalización datos de Museo\n",
    "\n",
    "df_museos=pd.read_csv('museos/'+year+'-'+str(now.strftime(\"%B\"))+'/museos-'+day+'-'+month+'-'+year+'.csv', header=0 )\n",
    "\n",
    "df_museos= df_museos.rename(columns = {'Cod_Loc':'cod_localidad','IdProvincia':'id_provincia'\n",
    "                                      ,'IdDepartamento':'id_departamento','Observaciones':'remove1'\n",
    "                                      ,'categoria':'categoría','subcategoria':'remove2'\n",
    "                                      ,'provincia':'provincia','localidad':'localidad'\n",
    "                                      ,'nombre':'nombre','direccion':'domicilio'\n",
    "                                      ,'piso':'remove3','CP':'código postal'\n",
    "                                      ,'cod_area':'remove4','telefono':'número de teléfono'\n",
    "                                      ,'Mail':'mail','Web':'web'\n",
    "                                      ,'Latitud':'remove5','Longitud':'remove6'\n",
    "                                      ,'TipoLatitudLongitud':'remove7','Info_adicional':'remove8'\n",
    "                                      ,'fuente':'remove9','jurisdiccion':'remove10'\n",
    "                                      ,'año_inauguracion':'remove11','actualizacion':'remove12'})\n",
    "\n",
    "for i in range(1,13):\n",
    "    df_museos = df_museos.drop(columns={\"remove\"+str(i)})\n",
    "\n",
    "# df_museos"
   ]
  },
  {
   "cell_type": "code",
   "execution_count": 11,
   "id": "4c402db4-22c3-44bb-8e78-0639c5097639",
   "metadata": {},
   "outputs": [],
   "source": [
    "#Normalización datos de Salas de Cine\n",
    "df_cines = pd.read_csv('cines/'+year+'-'+str(now.strftime(\"%B\"))+'/cines-'+day+'-'+month+'-'+year+'.csv', header=0 )\n",
    "\n",
    "df_cines = df_cines.rename(columns = {'Cod_Loc':'cod_localidad','IdProvincia':'id_provincia'\n",
    "                                      ,'IdDepartamento':'id_departamento','Observaciones':'remove1'\n",
    "                                      ,'Categoría':'categoría','Provincia':'provincia'\n",
    "                                      ,'Departamento':'remove2','Localidad':'localidad'\n",
    "                                      ,'Nombre':'nombre','Dirección':'domicilio'\n",
    "                                      ,'Piso':'remove3','CP':'código postal'\n",
    "                                      ,'cod_area':'remove4','Teléfono':'número de teléfono'\n",
    "                                      ,'Mail':'mail','Web':'web'\n",
    "                                      ,'Información adicional':'remove5','Latitud':'remove6'\n",
    "                                      ,'Longitud':'remove7','TipoLatitudLongitud':'remove8'\n",
    "                                      ,'Fuente':'remove9','tipo_gestion':'remove10'\n",
    "                                      ,'Pantallas':'pantallas','Butacas':'butacas'\n",
    "                                      ,'espacio_INCAA':'espacio incaa','año_actualizacion':'remove11'})\n",
    "\n",
    "for i in range(1,12):\n",
    "    df_cines = df_cines.drop(columns={\"remove\"+str(i)})\n",
    "\n",
    "# df_cines "
   ]
  },
  {
   "cell_type": "code",
   "execution_count": null,
   "id": "68feca4e-6ae3-45f3-a7f8-590fea09bf84",
   "metadata": {},
   "outputs": [],
   "source": [
    "#Normalización datos de Bibliotecas\n",
    "df_bibliotecas = pd.read_csv('bibliotecas/'+year+'-'+str(now.strftime(\"%B\"))+'/bibliotecas-'+day+'-'+month+'-'+year+'.csv', header=0 )\n",
    "\n",
    "df_bibliotecas = df_bibliotecas.rename(columns = {'Cod_Loc':'cod_localidad','IdProvincia':'id_provincia'\n",
    "                                      ,'IdDepartamento':'b','Observacion':'d'\n",
    "                                      ,'Categoría':'b','Subcategoria':'d'\n",
    "                                      ,'Provincia':'b','Departamento':'d'\n",
    "                                      ,'Localidad':'b','Nombre':'d'\n",
    "                                      ,'Domicilio':'b','Piso':'d'\n",
    "                                      ,'CP':'b','Cod_tel':'d'\n",
    "                                      ,'Teléfono':'b','Mail':'d'\n",
    "                                      ,'Web':'b','Información adicional':'d'\n",
    "                                      ,'Latitud':'b','Longitud':'d'\n",
    "                                      ,'TipoLatitudLongitud':'b','Fuente':'d'\n",
    "                                      ,'Tipo_gestion':'b','año_inicio':'d'\n",
    "                                      ,'Año_actualizacion':'b','c':'d'})\n",
    "\n",
    "for i in range(1,12):\n",
    "    df_bibliotecas = df_cines.drop(columns={\"remove\"+str(i)})"
   ]
  },
  {
   "cell_type": "code",
   "execution_count": null,
   "id": "57c440cf-cf1b-43cb-a79e-a6c3fc571ecc",
   "metadata": {},
   "outputs": [],
   "source": [
    ",,,,,,\n",
    ",,,,,,,,,,\n",
    ",,,,,,,,\n"
   ]
  }
 ],
 "metadata": {
  "kernelspec": {
   "display_name": "Python 3 (ipykernel)",
   "language": "python",
   "name": "python3"
  },
  "language_info": {
   "codemirror_mode": {
    "name": "ipython",
    "version": 3
   },
   "file_extension": ".py",
   "mimetype": "text/x-python",
   "name": "python",
   "nbconvert_exporter": "python",
   "pygments_lexer": "ipython3",
   "version": "3.8.10"
  }
 },
 "nbformat": 4,
 "nbformat_minor": 5
}
